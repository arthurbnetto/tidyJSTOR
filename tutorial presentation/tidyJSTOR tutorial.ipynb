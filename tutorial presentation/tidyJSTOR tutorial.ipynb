{
 "cells": [
  {
   "cell_type": "markdown",
   "metadata": {},
   "source": [
    "# tidyJSTOR Tutorial"
   ]
  },
  {
   "cell_type": "markdown",
   "metadata": {},
   "source": [
    "## By Arthur Brackmann Netto"
   ]
  },
  {
   "cell_type": "markdown",
   "metadata": {},
   "source": [
    "### HOPE Center 21/02/2020"
   ]
  },
  {
   "cell_type": "markdown",
   "metadata": {},
   "source": [
    "# R and Data analysis"
   ]
  },
  {
   "cell_type": "markdown",
   "metadata": {},
   "source": [
    "\"R is a language and environment for statistical computing and graphics\" (https://www.r-project.org/about.html)\n",
    "\n",
    "R vs. Point-n-click\n",
    "- Free\n",
    "- Big community (RStats on twitter, stackoverflow, kaggle...)\n",
    "- Big library of packages\n",
    "- Reproducibility and transparency \n",
    "- Bigger control over methods"
   ]
  },
  {
   "cell_type": "markdown",
   "metadata": {},
   "source": [
    "# R Basics"
   ]
  },
  {
   "cell_type": "markdown",
   "metadata": {},
   "source": [
    "Installation: R language and integrated development environment (IDE) (engine and dashboard)\n",
    "- Language: https://www.r-project.org/\n",
    "<br>latest version: 3.6.2\n",
    "- RStudio: https://rstudio.com/\n",
    "<br>Most commonly used IDE for R\n",
    "\n",
    "Packages\n",
    "- Packages: https://www.datacamp.com/community/tutorials/r-packages-guide\n",
    "<br>\"R packages are collections of functions and data sets developed by the community. They increase the power of R by improving existing base R functionalities, or by adding new ones.\"\n"
   ]
  },
  {
   "cell_type": "markdown",
   "metadata": {},
   "source": [
    "# Package Repositories"
   ]
  },
  {
   "cell_type": "markdown",
   "metadata": {},
   "source": [
    "\"A repository is a place where packages are located so you can install them from it.\" (https://www.datacamp.com/community/tutorials/r-packages-guide#what)\n",
    "\n",
    "- GitHub: \"We’re supporting a community where more than 40 million* people learn, share, and work together to build software.\"\n",
    "<br>https://github.com/\n",
    "<br>Non-peer reviewed, but open for modifications (pull requests)\n",
    "- Comprehensive R Archive Network (CRAN): \"CRAN is a network of ftp and web servers around the world that store identical, up-to-date, versions of code and documentation for R. Please use the CRAN mirror nearest to you to minimize network load.\"\n",
    "<br>https://cran.r-project.org/\n",
    "<br>Peer-reviewd packages"
   ]
  },
  {
   "cell_type": "markdown",
   "metadata": {},
   "source": [
    "# tidyverse and tidyJSTOR"
   ]
  },
  {
   "cell_type": "markdown",
   "metadata": {},
   "source": [
    "- tidyverse: https://www.tidyverse.org/ (CRAN)\n",
    "<br>\"The tidyverse is an opinionated collection of R packages designed for data science. All packages share an underlying design philosophy, grammar, and data structures\"\n",
    "<br> Obs: tidyverse vs. base R controversy (https://tidyverse.tidyverse.org/articles/manifesto.html)\n",
    "- tidyJSTOR (GitHub)\n",
    "<br> \"This package transforms JSTOR DFR's XML files into tidy dataframes and produces ggplot2 visualizations. This packages is a wrapper around tidyverse utilities and text-analisys tools intended for non-frequent R users to be able to realize bibliometric exploratory research of JSTOR datasets. Advanced R users may prefer to use the package solely for data transformation using JSTOR_df() and produce their own visualizations and analysis.\""
   ]
  },
  {
   "cell_type": "code",
   "execution_count": 7,
   "metadata": {},
   "outputs": [],
   "source": [
    "    #installing from CRAN\n",
    "    #install.packages(\"tidyverse\")\n",
    "    library(tidyverse)\n",
    "\n",
    "    #installing from GitHub\n",
    "    #Necessary to install CRAN package: \"devtools\"\n",
    "    #install.packages(\"devtools\")\n",
    "    #library(devtools)\n",
    "    #install_github(\"arthurbnetto/tidyJSTOR\")\n",
    "    #alternatively devtools::install_github()\n",
    "    library(tidyJSTOR)\n",
    "    "
   ]
  },
  {
   "cell_type": "code",
   "execution_count": null,
   "metadata": {},
   "outputs": [],
   "source": []
  }
 ],
 "metadata": {
  "kernelspec": {
   "display_name": "R",
   "language": "R",
   "name": "ir"
  },
  "language_info": {
   "codemirror_mode": "r",
   "file_extension": ".r",
   "mimetype": "text/x-r-source",
   "name": "R",
   "pygments_lexer": "r",
   "version": "3.6.1"
  }
 },
 "nbformat": 4,
 "nbformat_minor": 4
}
